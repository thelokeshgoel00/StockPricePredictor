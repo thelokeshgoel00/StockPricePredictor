{
 "cells": [
  {
   "cell_type": "code",
   "execution_count": 1,
   "metadata": {},
   "outputs": [],
   "source": [
    "import numpy as np\n",
    "import pandas as pd\n",
    "import matplotlib.pyplot as plt"
   ]
  },
  {
   "cell_type": "code",
   "execution_count": 2,
   "metadata": {},
   "outputs": [],
   "source": [
    "x_traindf = pd.read_csv('Datasets/Train/x_train.csv')\n",
    "x_train = np.array(x_traindf)"
   ]
  },
  {
   "cell_type": "code",
   "execution_count": 3,
   "metadata": {},
   "outputs": [],
   "source": [
    "y_traindf = pd.read_csv('Datasets/Train/y_train.csv')\n",
    "y_train = np.array(y_traindf)"
   ]
  },
  {
   "cell_type": "code",
   "execution_count": 4,
   "metadata": {},
   "outputs": [],
   "source": [
    "x_traindf['y']=y_traindf"
   ]
  },
  {
   "cell_type": "code",
   "execution_count": 5,
   "metadata": {},
   "outputs": [
    {
     "name": "stdout",
     "output_type": "stream",
     "text": [
      "[[332.83]\n",
      " [333.87]\n",
      " [330.75]\n",
      " ...\n",
      " [797.86]\n",
      " [794.23]\n",
      " [785.93]] [[333.87]\n",
      " [330.75]\n",
      " [328.77]\n",
      " ...\n",
      " [794.23]\n",
      " [785.93]\n",
      " [782.78]]\n"
     ]
    }
   ],
   "source": [
    "print(x_train,y_train)"
   ]
  },
  {
   "cell_type": "code",
   "execution_count": 6,
   "metadata": {},
   "outputs": [],
   "source": [
    "from sklearn.preprocessing import MinMaxScaler"
   ]
  },
  {
   "cell_type": "code",
   "execution_count": 7,
   "metadata": {},
   "outputs": [],
   "source": [
    "totalDataset = zip(x_train,y_train)"
   ]
  },
  {
   "cell_type": "code",
   "execution_count": null,
   "metadata": {},
   "outputs": [],
   "source": []
  },
  {
   "cell_type": "code",
   "execution_count": 8,
   "metadata": {},
   "outputs": [
    {
     "name": "stdout",
     "output_type": "stream",
     "text": [
      "2\n"
     ]
    }
   ],
   "source": [
    "totalDataset = list(totalDataset)\n",
    "print(len(totalDataset[1]))"
   ]
  },
  {
   "cell_type": "code",
   "execution_count": 9,
   "metadata": {},
   "outputs": [],
   "source": [
    "min_max_scaler = MinMaxScaler()\n",
    "totalDataset = min_max_scaler.fit_transform(x_traindf)"
   ]
  },
  {
   "cell_type": "code",
   "execution_count": 10,
   "metadata": {},
   "outputs": [],
   "source": [
    "x_train = []\n",
    "y_train = []\n",
    "for i in range(totalDataset.shape[0]):\n",
    "    x_train.append(totalDataset[i][0])\n",
    "    y_train.append(totalDataset[i][1])\n",
    "    "
   ]
  },
  {
   "cell_type": "code",
   "execution_count": 11,
   "metadata": {},
   "outputs": [],
   "source": [
    "x_train = np.array(x_train)"
   ]
  },
  {
   "cell_type": "code",
   "execution_count": 12,
   "metadata": {},
   "outputs": [],
   "source": [
    "y_train=np.array(y_train)"
   ]
  },
  {
   "cell_type": "code",
   "execution_count": 13,
   "metadata": {},
   "outputs": [],
   "source": [
    "x_train = x_train.reshape((1257,1))"
   ]
  },
  {
   "cell_type": "code",
   "execution_count": 14,
   "metadata": {},
   "outputs": [
    {
     "name": "stdout",
     "output_type": "stream",
     "text": [
      "(1257, 1) (1257,)\n"
     ]
    }
   ],
   "source": [
    "print(x_train.shape,y_train.shape)"
   ]
  },
  {
   "cell_type": "code",
   "execution_count": 15,
   "metadata": {},
   "outputs": [],
   "source": [
    "def build_timeseries(mat,y_col_index):\n",
    "    dim_0 = mat.shape[0] - 10\n",
    "    dim_1=1\n",
    "    x = np.zeros((dim_0,10,dim_1))\n",
    "    y = np.zeros((dim_0,))\n",
    "    \n",
    "    for i in range(dim_0):\n",
    "        x[i] = mat[i:10+i]\n",
    "        y[i] = y_col_index[10+i]\n",
    "    return x,y"
   ]
  },
  {
   "cell_type": "code",
   "execution_count": 16,
   "metadata": {},
   "outputs": [],
   "source": [
    "x,y = build_timeseries(x_train,y_train)"
   ]
  },
  {
   "cell_type": "code",
   "execution_count": 17,
   "metadata": {},
   "outputs": [],
   "source": [
    "x_train = x[:1000]\n",
    "x_test = x[1000:]\n",
    "y_train = y[:1000]\n",
    "y_test = y[1000:]"
   ]
  },
  {
   "cell_type": "code",
   "execution_count": 18,
   "metadata": {},
   "outputs": [
    {
     "name": "stdout",
     "output_type": "stream",
     "text": [
      "(1247, 10, 1) (1247,)\n",
      "(1000, 10, 1)\n",
      "(247, 10, 1)\n",
      "(1000,)\n",
      "(247,)\n"
     ]
    }
   ],
   "source": [
    "print(x.shape,y.shape)\n",
    "print(x_train.shape)\n",
    "print(x_test.shape)\n",
    "print(y_train.shape)\n",
    "print(y_test.shape)"
   ]
  },
  {
   "cell_type": "code",
   "execution_count": 19,
   "metadata": {},
   "outputs": [],
   "source": [
    "def trim_dataset(mat, batch_size):\n",
    "    \"\"\"\n",
    "    trims dataset to a size that's divisible by BATCH_SIZE\n",
    "    \"\"\"\n",
    "    no_of_rows_drop = mat.shape[0]%batch_size\n",
    "    if(no_of_rows_drop > 0):\n",
    "        return mat[:-no_of_rows_drop]\n",
    "    else:\n",
    "        return mat"
   ]
  },
  {
   "cell_type": "code",
   "execution_count": 20,
   "metadata": {},
   "outputs": [
    {
     "name": "stdout",
     "output_type": "stream",
     "text": [
      "[0.07113377 0.02463257 0.02244757 ... 0.95807422 0.94257381 0.93669113]\n"
     ]
    }
   ],
   "source": [
    "# x_t= trim_dataset(x,32)\n",
    "# y_t = trim_dataset(y,32)\n",
    "print(y)"
   ]
  },
  {
   "cell_type": "code",
   "execution_count": 21,
   "metadata": {},
   "outputs": [],
   "source": [
    "x_t = x\n",
    "y_t = y"
   ]
  },
  {
   "cell_type": "code",
   "execution_count": 22,
   "metadata": {},
   "outputs": [
    {
     "name": "stdout",
     "output_type": "stream",
     "text": [
      "(1247, 10, 1)\n"
     ]
    }
   ],
   "source": [
    "print(x_t.shape)"
   ]
  },
  {
   "cell_type": "code",
   "execution_count": 23,
   "metadata": {},
   "outputs": [
    {
     "name": "stderr",
     "output_type": "stream",
     "text": [
      "Using TensorFlow backend.\n"
     ]
    }
   ],
   "source": [
    "\n",
    "from keras.models import Sequential\n",
    "from keras.layers import *"
   ]
  },
  {
   "cell_type": "code",
   "execution_count": 35,
   "metadata": {},
   "outputs": [
    {
     "name": "stdout",
     "output_type": "stream",
     "text": [
      "Model: \"sequential_3\"\n",
      "_________________________________________________________________\n",
      "Layer (type)                 Output Shape              Param #   \n",
      "=================================================================\n",
      "lstm_7 (LSTM)                (None, 10, 100)           40800     \n",
      "_________________________________________________________________\n",
      "dropout_5 (Dropout)          (None, 10, 100)           0         \n",
      "_________________________________________________________________\n",
      "lstm_8 (LSTM)                (None, 10, 50)            30200     \n",
      "_________________________________________________________________\n",
      "dropout_6 (Dropout)          (None, 10, 50)            0         \n",
      "_________________________________________________________________\n",
      "lstm_9 (LSTM)                (None, 50)                20200     \n",
      "_________________________________________________________________\n",
      "dense_5 (Dense)              (None, 1)                 51        \n",
      "=================================================================\n",
      "Total params: 91,251\n",
      "Trainable params: 91,251\n",
      "Non-trainable params: 0\n",
      "_________________________________________________________________\n"
     ]
    }
   ],
   "source": [
    "\n",
    "lstm_model = Sequential()\n",
    "lstm_model.add(LSTM(100, return_sequences=True,input_shape=(10,1),))\n",
    "lstm_model.add(Dropout(0.3))\n",
    "lstm_model.add(LSTM(50,return_sequences=True))\n",
    "lstm_model.add(Dropout(0.3))\n",
    "lstm_model.add(LSTM(50,return_sequences=False))\n",
    "lstm_model.add(Dense(1,activation = 'sigmoid'))\n",
    "lstm_model.summary()"
   ]
  },
  {
   "cell_type": "code",
   "execution_count": 36,
   "metadata": {},
   "outputs": [],
   "source": [
    "lstm_model.compile(optimizer='adam',loss='mean_squared_error',metrics = ['accuracy'])"
   ]
  },
  {
   "cell_type": "code",
   "execution_count": 37,
   "metadata": {},
   "outputs": [
    {
     "name": "stdout",
     "output_type": "stream",
     "text": [
      "Train on 997 samples, validate on 250 samples\n",
      "Epoch 1/30\n",
      "997/997 [==============================] - 2s 2ms/step - loss: 0.0301 - accuracy: 0.0010 - val_loss: 0.0041 - val_accuracy: 0.0040\n",
      "Epoch 2/30\n",
      "997/997 [==============================] - 1s 697us/step - loss: 0.0035 - accuracy: 0.0010 - val_loss: 0.0105 - val_accuracy: 0.0040\n",
      "Epoch 3/30\n",
      "997/997 [==============================] - 1s 743us/step - loss: 0.0026 - accuracy: 0.0010 - val_loss: 0.0083 - val_accuracy: 0.0040\n",
      "Epoch 4/30\n",
      "997/997 [==============================] - 1s 661us/step - loss: 0.0026 - accuracy: 0.0010 - val_loss: 0.0099 - val_accuracy: 0.0040\n",
      "Epoch 5/30\n",
      "997/997 [==============================] - 1s 641us/step - loss: 0.0024 - accuracy: 0.0010 - val_loss: 0.0087 - val_accuracy: 0.0040\n",
      "Epoch 6/30\n",
      "997/997 [==============================] - 1s 655us/step - loss: 0.0021 - accuracy: 0.0010 - val_loss: 0.0077 - val_accuracy: 0.0040\n",
      "Epoch 7/30\n",
      "997/997 [==============================] - 1s 657us/step - loss: 0.0020 - accuracy: 0.0010 - val_loss: 0.0026 - val_accuracy: 0.0040\n",
      "Epoch 8/30\n",
      "997/997 [==============================] - 1s 660us/step - loss: 0.0018 - accuracy: 0.0010 - val_loss: 0.0023 - val_accuracy: 0.0040\n",
      "Epoch 9/30\n",
      "997/997 [==============================] - 1s 644us/step - loss: 0.0015 - accuracy: 0.0010 - val_loss: 0.0019 - val_accuracy: 0.0040\n",
      "Epoch 10/30\n",
      "997/997 [==============================] - 1s 642us/step - loss: 0.0015 - accuracy: 0.0010 - val_loss: 0.0018 - val_accuracy: 0.0040\n",
      "Epoch 11/30\n",
      "997/997 [==============================] - 1s 668us/step - loss: 0.0015 - accuracy: 0.0010 - val_loss: 0.0019 - val_accuracy: 0.0040\n",
      "Epoch 12/30\n",
      "997/997 [==============================] - 1s 701us/step - loss: 0.0014 - accuracy: 0.0010 - val_loss: 0.0017 - val_accuracy: 0.0040\n",
      "Epoch 13/30\n",
      "997/997 [==============================] - 1s 686us/step - loss: 0.0015 - accuracy: 0.0010 - val_loss: 0.0019 - val_accuracy: 0.0040\n",
      "Epoch 14/30\n",
      "997/997 [==============================] - 1s 707us/step - loss: 0.0017 - accuracy: 0.0010 - val_loss: 0.0023 - val_accuracy: 0.0040\n",
      "Epoch 15/30\n",
      "997/997 [==============================] - 1s 701us/step - loss: 0.0015 - accuracy: 0.0010 - val_loss: 0.0017 - val_accuracy: 0.0040\n",
      "Epoch 16/30\n",
      "997/997 [==============================] - 1s 657us/step - loss: 0.0014 - accuracy: 0.0010 - val_loss: 0.0040 - val_accuracy: 0.0040\n",
      "Epoch 17/30\n",
      "997/997 [==============================] - 1s 765us/step - loss: 0.0018 - accuracy: 0.0010 - val_loss: 0.0023 - val_accuracy: 0.0040\n",
      "Epoch 18/30\n",
      "997/997 [==============================] - 1s 742us/step - loss: 0.0015 - accuracy: 0.0010 - val_loss: 0.0016 - val_accuracy: 0.0040\n",
      "Epoch 19/30\n",
      "997/997 [==============================] - 1s 684us/step - loss: 0.0014 - accuracy: 0.0010 - val_loss: 0.0016 - val_accuracy: 0.0040\n",
      "Epoch 20/30\n",
      "997/997 [==============================] - 1s 682us/step - loss: 0.0014 - accuracy: 0.0010 - val_loss: 0.0017 - val_accuracy: 0.0040\n",
      "Epoch 21/30\n",
      "997/997 [==============================] - 1s 623us/step - loss: 0.0015 - accuracy: 0.0010 - val_loss: 0.0021 - val_accuracy: 0.0040\n",
      "Epoch 22/30\n",
      "997/997 [==============================] - 1s 655us/step - loss: 0.0014 - accuracy: 0.0010 - val_loss: 0.0018 - val_accuracy: 0.0040\n",
      "Epoch 23/30\n",
      "997/997 [==============================] - 1s 638us/step - loss: 0.0013 - accuracy: 0.0010 - val_loss: 0.0016 - val_accuracy: 0.0040\n",
      "Epoch 24/30\n",
      "997/997 [==============================] - 1s 633us/step - loss: 0.0014 - accuracy: 0.0010 - val_loss: 0.0018 - val_accuracy: 0.0040\n",
      "Epoch 25/30\n",
      "997/997 [==============================] - 1s 667us/step - loss: 0.0013 - accuracy: 0.0010 - val_loss: 0.0019 - val_accuracy: 0.0040\n",
      "Epoch 26/30\n",
      "997/997 [==============================] - 1s 642us/step - loss: 0.0013 - accuracy: 0.0010 - val_loss: 0.0020 - val_accuracy: 0.0040\n",
      "Epoch 27/30\n",
      "997/997 [==============================] - 1s 688us/step - loss: 0.0013 - accuracy: 0.0010 - val_loss: 0.0016 - val_accuracy: 0.0040\n",
      "Epoch 28/30\n",
      "997/997 [==============================] - 1s 759us/step - loss: 0.0013 - accuracy: 0.0010 - val_loss: 0.0016 - val_accuracy: 0.0040\n",
      "Epoch 29/30\n",
      "997/997 [==============================] - 1s 659us/step - loss: 0.0013 - accuracy: 0.0010 - val_loss: 0.0016 - val_accuracy: 0.0040\n",
      "Epoch 30/30\n",
      "997/997 [==============================] - 1s 662us/step - loss: 0.0012 - accuracy: 0.0010 - val_loss: 0.0019 - val_accuracy: 0.0040\n"
     ]
    },
    {
     "data": {
      "text/plain": [
       "<keras.callbacks.callbacks.History at 0x7f057c3aebd0>"
      ]
     },
     "execution_count": 37,
     "metadata": {},
     "output_type": "execute_result"
    }
   ],
   "source": [
    "lstm_model.fit(x,y,epochs=30,validation_split = 0.2)"
   ]
  },
  {
   "cell_type": "code",
   "execution_count": 38,
   "metadata": {},
   "outputs": [
    {
     "data": {
      "image/png": "[encoded data removed]",
      "text/plain": [
       "<Figure size 432x288 with 1 Axes>"
      ]
     },
     "metadata": {
      "needs_background": "light"
     },
     "output_type": "display_data"
    }
   ],
   "source": [
    "\n",
    "y_ = lstm_model.predict(x_test)\n",
    "x_axis = np.arange(y_.shape[0])\n",
    "plt.plot(x_axis,y_,c='blue')\n",
    "plt.plot(x_axis,y_test,c='red')\n",
    "plt.show()"
   ]
  },
  {
   "cell_type": "code",
   "execution_count": 39,
   "metadata": {},
   "outputs": [
    {
     "data": {
      "image/png": "[encoded data removed]",
      "text/plain": [
       "<Figure size 432x288 with 1 Axes>"
      ]
     },
     "metadata": {
      "needs_background": "light"
     },
     "output_type": "display_data"
    }
   ],
   "source": [
    "y_train_pred = lstm_model.predict(x_train)\n",
    "x_axis = np.arange(y_train_pred.shape[0])\n",
    "plt.plot(x_axis,y_train_pred,c='blue')\n",
    "plt.plot(x_axis,y_train,c='red')\n",
    "plt.show()"
   ]
  },
  {
   "cell_type": "code",
   "execution_count": null,
   "metadata": {},
   "outputs": [],
   "source": []
  }
 ],
 "metadata": {
  "kernelspec": {
   "display_name": "Python 3",
   "language": "python",
   "name": "python3"
  },
  "language_info": {
   "codemirror_mode": {
    "name": "ipython",
    "version": 3
   },
   "file_extension": ".py",
   "mimetype": "text/x-python",
   "name": "python",
   "nbconvert_exporter": "python",
   "pygments_lexer": "ipython3",
   "version": "3.7.6"
  }
 },
 "nbformat": 4,
 "nbformat_minor": 4
}
