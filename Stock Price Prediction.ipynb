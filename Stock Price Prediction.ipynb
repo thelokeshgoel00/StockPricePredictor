{
 "cells": [
  {
   "cell_type": "code",
   "execution_count": 183,
   "metadata": {},
   "outputs": [],
   "source": [
    "import numpy as np\n",
    "import pandas as pd\n",
    "import matplotlib.pyplot as plt"
   ]
  },
  {
   "cell_type": "code",
   "execution_count": 184,
   "metadata": {},
   "outputs": [],
   "source": [
    "x_traindf = pd.read_csv('Datasets/Train/x_train.csv')\n",
    "x_train = np.array(x_traindf)"
   ]
  },
  {
   "cell_type": "code",
   "execution_count": 185,
   "metadata": {},
   "outputs": [],
   "source": [
    "y_traindf = pd.read_csv('Datasets/Train/y_train.csv')\n",
    "y_train = np.array(y_traindf)"
   ]
  },
  {
   "cell_type": "code",
   "execution_count": 103,
   "metadata": {},
   "outputs": [],
   "source": [
    "x_traindf['y']=y_traindf"
   ]
  },
  {
   "cell_type": "code",
   "execution_count": 8,
   "metadata": {},
   "outputs": [
    {
     "name": "stdout",
     "output_type": "stream",
     "text": [
      "[[332.83]\n",
      " [333.87]\n",
      " [330.75]\n",
      " ...\n",
      " [797.86]\n",
      " [794.23]\n",
      " [785.93]] [[333.87]\n",
      " [330.75]\n",
      " [328.77]\n",
      " ...\n",
      " [794.23]\n",
      " [785.93]\n",
      " [782.78]]\n"
     ]
    }
   ],
   "source": [
    "print(x_train,y_train)"
   ]
  },
  {
   "cell_type": "code",
   "execution_count": 41,
   "metadata": {},
   "outputs": [],
   "source": [
    "from sklearn.preprocessing import MinMaxScaler"
   ]
  },
  {
   "cell_type": "code",
   "execution_count": 97,
   "metadata": {},
   "outputs": [],
   "source": [
    "totalDataset = zip(x_train,y_train)"
   ]
  },
  {
   "cell_type": "code",
   "execution_count": null,
   "metadata": {},
   "outputs": [],
   "source": []
  },
  {
   "cell_type": "code",
   "execution_count": 102,
   "metadata": {},
   "outputs": [
    {
     "name": "stdout",
     "output_type": "stream",
     "text": [
      "2\n"
     ]
    }
   ],
   "source": [
    "totalDataset = list(totalDataset)\n",
    "print(len(totalDataset[1]))"
   ]
  },
  {
   "cell_type": "code",
   "execution_count": 143,
   "metadata": {},
   "outputs": [],
   "source": [
    "min_max_scaler = MinMaxScaler()\n",
    "totalDataset = min_max_scaler.fit_transform(x_traindf)"
   ]
  },
  {
   "cell_type": "code",
   "execution_count": 146,
   "metadata": {},
   "outputs": [],
   "source": [
    "x_train = []\n",
    "y_train = []\n",
    "for i in range(totalDataset.shape[0]):\n",
    "    x_train.append(totalDataset[i][0])\n",
    "    y_train.append(totalDataset[i][1])\n",
    "    "
   ]
  },
  {
   "cell_type": "code",
   "execution_count": 147,
   "metadata": {},
   "outputs": [],
   "source": [
    "x_train = np.array(x_train)"
   ]
  },
  {
   "cell_type": "code",
   "execution_count": 148,
   "metadata": {},
   "outputs": [],
   "source": [
    "y_train=np.array(y_train)"
   ]
  },
  {
   "cell_type": "code",
   "execution_count": 166,
   "metadata": {},
   "outputs": [],
   "source": [
    "x_train = x_train.reshape((1257,1))"
   ]
  },
  {
   "cell_type": "code",
   "execution_count": 167,
   "metadata": {},
   "outputs": [
    {
     "name": "stdout",
     "output_type": "stream",
     "text": [
      "(1257, 1) (1257,)\n"
     ]
    }
   ],
   "source": [
    "print(x_train.shape,y_train.shape)"
   ]
  },
  {
   "cell_type": "code",
   "execution_count": 169,
   "metadata": {},
   "outputs": [],
   "source": [
    "def build_timeseries(mat,y_col_index):\n",
    "    dim_0 = mat.shape[0] - 6\n",
    "    dim_1=1\n",
    "    x = np.zeros((dim_0,6,dim_1))\n",
    "    y = np.zeros((dim_0,))\n",
    "    \n",
    "    for i in range(dim_0):\n",
    "        x[i] = mat[i:6+i]\n",
    "        y[i] = y_col_index[6+i]\n",
    "    return x,y"
   ]
  },
  {
   "cell_type": "code",
   "execution_count": 170,
   "metadata": {},
   "outputs": [],
   "source": [
    "x,y = build_timeseries(x_train,y_train)"
   ]
  },
  {
   "cell_type": "code",
   "execution_count": 171,
   "metadata": {},
   "outputs": [
    {
     "name": "stdout",
     "output_type": "stream",
     "text": [
      "(1251, 6, 1) (1251,)\n"
     ]
    }
   ],
   "source": [
    "print(x.shape,y.shape)"
   ]
  },
  {
   "cell_type": "code",
   "execution_count": 172,
   "metadata": {},
   "outputs": [],
   "source": [
    "def trim_dataset(mat, batch_size):\n",
    "    \"\"\"\n",
    "    trims dataset to a size that's divisible by BATCH_SIZE\n",
    "    \"\"\"\n",
    "    no_of_rows_drop = mat.shape[0]%batch_size\n",
    "    if(no_of_rows_drop > 0):\n",
    "        return mat[:-no_of_rows_drop]\n",
    "    else:\n",
    "        return mat"
   ]
  },
  {
   "cell_type": "code",
   "execution_count": 173,
   "metadata": {},
   "outputs": [],
   "source": [
    "x_t= trim_dataset(x,32)\n",
    "y_t = trim_dataset(y,32)"
   ]
  },
  {
   "cell_type": "code",
   "execution_count": null,
   "metadata": {},
   "outputs": [],
   "source": []
  },
  {
   "cell_type": "code",
   "execution_count": 174,
   "metadata": {},
   "outputs": [
    {
     "name": "stdout",
     "output_type": "stream",
     "text": [
      "(1248, 6, 1)\n"
     ]
    }
   ],
   "source": [
    "print(x_t.shape)"
   ]
  },
  {
   "cell_type": "code",
   "execution_count": 175,
   "metadata": {},
   "outputs": [],
   "source": [
    "import tensorflow as tf\n",
    "from tensorflow.keras.models import Sequential\n",
    "from tensorflow.keras.layers import *"
   ]
  },
  {
   "cell_type": "code",
   "execution_count": 179,
   "metadata": {},
   "outputs": [
    {
     "name": "stdout",
     "output_type": "stream",
     "text": [
      "Model: \"sequential_24\"\n",
      "_________________________________________________________________\n",
      "Layer (type)                 Output Shape              Param #   \n",
      "=================================================================\n",
      "lstm_24 (LSTM)               (32, 100)                 40800     \n",
      "_________________________________________________________________\n",
      "dropout_3 (Dropout)          (32, 100)                 0         \n",
      "_________________________________________________________________\n",
      "dense_38 (Dense)             (32, 20)                  2020      \n",
      "_________________________________________________________________\n",
      "dense_39 (Dense)             (32, 1)                   21        \n",
      "=================================================================\n",
      "Total params: 42,841\n",
      "Trainable params: 42,841\n",
      "Non-trainable params: 0\n",
      "_________________________________________________________________\n"
     ]
    }
   ],
   "source": [
    "\n",
    "lstm_model = Sequential()\n",
    "lstm_model.add(LSTM(100, batch_input_shape=(32, 6,1), dropout=0.0, recurrent_dropout=0.0, stateful=True,     kernel_initializer='random_uniform'))\n",
    "lstm_model.add(Dropout(0.5))\n",
    "lstm_model.add(Dense(20,activation='relu'))\n",
    "lstm_model.add(Dense(1,activation='sigmoid'))\n",
    "lstm_model.summary()"
   ]
  },
  {
   "cell_type": "code",
   "execution_count": 180,
   "metadata": {},
   "outputs": [],
   "source": [
    "model.compile(optimizer='adam',loss='mean_squared_error',metrics=['acc'])"
   ]
  },
  {
   "cell_type": "code",
   "execution_count": 181,
   "metadata": {},
   "outputs": [
    {
     "name": "stdout",
     "output_type": "stream",
     "text": [
      "Train on 1123 samples, validate on 125 samples\n",
      "Epoch 1/10\n",
      "1123/1123 [==============================] - 5s 5ms/sample - loss: 0.2521 - acc: 8.9047e-04 - val_loss: 0.8463 - val_acc: 0.0000e+00\n",
      "Epoch 2/10\n",
      "1123/1123 [==============================] - 3s 3ms/sample - loss: 0.2521 - acc: 8.9047e-04 - val_loss: 0.8463 - val_acc: 0.0000e+00\n",
      "Epoch 3/10\n",
      "1123/1123 [==============================] - 3s 3ms/sample - loss: 0.2521 - acc: 8.9047e-04 - val_loss: 0.8463 - val_acc: 0.0000e+00\n",
      "Epoch 4/10\n",
      "1123/1123 [==============================] - 4s 3ms/sample - loss: 0.2521 - acc: 8.9047e-04 - val_loss: 0.8463 - val_acc: 0.0000e+00\n",
      "Epoch 5/10\n",
      "1123/1123 [==============================] - 4s 3ms/sample - loss: 0.2521 - acc: 8.9047e-04 - val_loss: 0.8463 - val_acc: 0.0000e+00\n",
      "Epoch 6/10\n",
      "1123/1123 [==============================] - 4s 4ms/sample - loss: 0.2521 - acc: 8.9047e-04 - val_loss: 0.8463 - val_acc: 0.0000e+00\n",
      "Epoch 7/10\n",
      "1123/1123 [==============================] - 4s 3ms/sample - loss: 0.2521 - acc: 8.9047e-04 - val_loss: 0.8463 - val_acc: 0.0000e+00\n",
      "Epoch 8/10\n",
      "1123/1123 [==============================] - 4s 3ms/sample - loss: 0.2521 - acc: 8.9047e-04 - val_loss: 0.8463 - val_acc: 0.0000e+00\n",
      "Epoch 9/10\n",
      "1123/1123 [==============================] - 4s 3ms/sample - loss: 0.2521 - acc: 8.9047e-04 - val_loss: 0.8463 - val_acc: 0.0000e+00\n",
      "Epoch 10/10\n",
      "1123/1123 [==============================] - 4s 3ms/sample - loss: 0.2521 - acc: 8.9047e-04 - val_loss: 0.8463 - val_acc: 0.0000e+00\n"
     ]
    },
    {
     "data": {
      "text/plain": [
       "<tensorflow.python.keras.callbacks.History at 0x7faa739b5128>"
      ]
     },
     "execution_count": 181,
     "metadata": {},
     "output_type": "execute_result"
    }
   ],
   "source": [
    "model.fit(x_t,y_t,epochs=10,validation_split=0.1)"
   ]
  },
  {
   "cell_type": "code",
   "execution_count": 182,
   "metadata": {},
   "outputs": [
    {
     "name": "stdout",
     "output_type": "stream",
     "text": [
      "[[[0.09640129]\n",
      "  [0.09834351]\n",
      "  [0.09251685]\n",
      "  [0.08881917]\n",
      "  [0.07671765]\n",
      "  [0.06444805]]\n",
      "\n",
      " [[0.09834351]\n",
      "  [0.09251685]\n",
      "  [0.08881917]\n",
      "  [0.07671765]\n",
      "  [0.06444805]\n",
      "  [0.06033951]]\n",
      "\n",
      " [[0.09251685]\n",
      "  [0.08881917]\n",
      "  [0.07671765]\n",
      "  [0.06444805]\n",
      "  [0.06033951]\n",
      "  [0.063589  ]]\n",
      "\n",
      " ...\n",
      "\n",
      " [[0.97702953]\n",
      "  [0.97631987]\n",
      "  [0.97445235]\n",
      "  [0.97045586]\n",
      "  [0.9644798 ]\n",
      "  [0.96632865]]\n",
      "\n",
      " [[0.97631987]\n",
      "  [0.97445235]\n",
      "  [0.97045586]\n",
      "  [0.9644798 ]\n",
      "  [0.96632865]\n",
      "  [0.96264963]]\n",
      "\n",
      " [[0.97445235]\n",
      "  [0.97045586]\n",
      "  [0.9644798 ]\n",
      "  [0.96632865]\n",
      "  [0.96264963]\n",
      "  [0.95637477]]] [0.063589   0.05806114 0.06274861 ... 0.95637477 0.95529161 0.96485331]\n"
     ]
    }
   ],
   "source": [
    "print(x_t,y_t)"
   ]
  },
  {
   "cell_type": "code",
   "execution_count": null,
   "metadata": {},
   "outputs": [],
   "source": []
  }
 ],
 "metadata": {
  "kernelspec": {
   "display_name": "myvenv",
   "language": "python",
   "name": "myvenv"
  },
  "language_info": {
   "codemirror_mode": {
    "name": "ipython",
    "version": 3
   },
   "file_extension": ".py",
   "mimetype": "text/x-python",
   "name": "python",
   "nbconvert_exporter": "python",
   "pygments_lexer": "ipython3",
   "version": "3.6.9"
  }
 },
 "nbformat": 4,
 "nbformat_minor": 4
}
